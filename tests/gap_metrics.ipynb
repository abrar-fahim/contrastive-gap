{
 "cells": [
  {
   "cell_type": "code",
   "execution_count": 1,
   "metadata": {},
   "outputs": [
    {
     "name": "stderr",
     "output_type": "stream",
     "text": [
      "/home/afahim2/miniconda3/envs/babylm/lib/python3.10/site-packages/tqdm/auto.py:21: TqdmWarning: IProgress not found. Please update jupyter and ipywidgets. See https://ipywidgets.readthedocs.io/en/stable/user_install.html\n",
      "  from .autonotebook import tqdm as notebook_tqdm\n"
     ]
    }
   ],
   "source": [
    "import torch\n",
    "import sys\n",
    "\n",
    "sys.path.append('/home/afahim2/tmp/clip-project/clipverse')\n",
    "\n",
    "\n",
    "from clips.clip_assembler import ClipAssembler\n",
    "from src.evaluator import Evaluator\n",
    "from dataset_processors.mscoco_processor import MSCOCOProcessor\n",
    "\n",
    "from src.prepare_config import prepare_config\n",
    "from clips.hf_clip import HFClipOutput, HFClip"
   ]
  },
  {
   "cell_type": "code",
   "execution_count": 10,
   "metadata": {},
   "outputs": [
    {
     "data": {
      "text/plain": [
       "<module 'src.prepare_config' from '/home/afahim2/tmp/clip-project/clipverse/src/prepare_config.py'>"
      ]
     },
     "execution_count": 10,
     "metadata": {},
     "output_type": "execute_result"
    }
   ],
   "source": [
    "import importlib\n",
    "importlib.reload(sys.modules['dataset_processors'].mscoco_processor)\n",
    "importlib.reload(sys.modules['src'].evaluator)\n",
    "importlib.reload(sys.modules['src'].prepare_config)"
   ]
  },
  {
   "cell_type": "code",
   "execution_count": 2,
   "metadata": {},
   "outputs": [],
   "source": [
    "cuda_device = 'cuda:0'\n",
    "ROOT = '/home/afahim2/tmp/clip-project/clipverse'"
   ]
  },
  {
   "cell_type": "code",
   "execution_count": 3,
   "metadata": {},
   "outputs": [],
   "source": [
    "mscoco_paths = {\n",
    "        # 128D\n",
    "\n",
    "        # Seed 42\n",
    "        'mscoco_default_128d_s42': '/remote/cirrus-home/afahim2/tmp/clip-project/clipverse/checkpoints/T0.01_Lit_42_finetune_I1C2E1E2_128_val_as_val_512_mscoco_VIT_pretrained_EVAL.pt',\n",
    "        'mscoco_cua_128d_s42': '/remote/cirrus-home/afahim2/tmp/clip-project/clipverse/checkpoints/T0.01_Lituniform_align_42_finetune_I1C2E1E2_128_val_as_val_512_mscoco_VIT_pretrained_FINAL3.pt',\n",
    "        'mscoco_cuaxu_128d_s42': '/remote/cirrus-home/afahim2/tmp/clip-project/clipverse/checkpoints/T0.01_Lituniform_align_xuniform_42_finetune_I1C2E1E2_128_val_as_val_512_mscoco_VIT_pretrained_EVAL.pt',\n",
    "\n",
    "        # Seed 24\n",
    "\n",
    "        'mscoco_default_128d_s24': '/remote/cirrus-home/afahim2/tmp/clip-project/clipverse/checkpoints/T0.01_Lit_24_finetune_I1C2E1E2_128_val_as_val_512_mscoco_VIT_pretrained_FINAL10.pt',\n",
    "        'mscoco_cua_128d_s24': '/remote/cirrus-home/afahim2/tmp/clip-project/clipverse/checkpoints/T0.01_Lituniform_align_24_finetune_I1C2E1E2_128_val_as_val_512_mscoco_VIT_pretrained_FINAL10.pt',\n",
    "        'mscoco_cuaxu_128d_s24': '/remote/cirrus-home/afahim2/tmp/clip-project/clipverse/checkpoints/T0.01_Lituniform_align_xuniform_24_finetune_I1C2E1E2_128_val_as_val_512_mscoco_VIT_pretrained_FINAL10.pt',\n",
    "\n",
    "        # Seed = 44\n",
    "        'mscoco_default_128d_s44':  '/remote/cirrus-home/afahim2/tmp/clip-project/clipverse/checkpoints/T0.01_Lit_44_finetune_I1C2E1E2_128_val_as_val_512_mscoco_VIT_pretrained_FINAL10.pt',\n",
    "        'mscoco_cua_128d_s44':  '/remote/cirrus-home/afahim2/tmp/clip-project/clipverse/checkpoints/T0.01_Lituniform_align_44_finetune_I1C2E1E2_128_val_as_val_512_mscoco_VIT_pretrained_FINAL10.pt',\n",
    "        'mscoco_cuaxu_128d_s44': '/remote/cirrus-home/afahim2/tmp/clip-project/clipverse/checkpoints/T0.01_Lituniform_align_xuniform_44_finetune_I1C2E1E2_128_val_as_val_512_mscoco_VIT_pretrained_FINAL10.pt',\n",
    "\n",
    "        # 64D\n",
    "\n",
    "        'mscoco_default_64d_s42': '/remote/cirrus-home/afahim2/tmp/clip-project/clipverse/checkpoints/T0.01_Lit_42_finetune_I1C2E1E2_64_val_as_val_512_mscoco_VIT_pretrained_EVAL.pt',\n",
    "        'mscoco_cua_64d_s42': '/remote/cirrus-home/afahim2/tmp/clip-project/clipverse/checkpoints/T0.01_Lituniform_align_42_finetune_I1C2E1E2_64_val_as_val_512_mscoco_VIT_pretrained_FINAL3.pt',\n",
    "        'mscoco_cuaxu_64d_s42': '/remote/cirrus-home/afahim2/tmp/clip-project/clipverse/checkpoints/T0.01_Lituniform_align_xuniform_42_finetune_I1C2E1E2_64_val_as_val_512_mscoco_VIT_pretrained_EVAL.pt',\n",
    "\n",
    "        'mscoco_default_64d_s24': '/remote/cirrus-home/afahim2/tmp/clip-project/clipverse/checkpoints/T0.01_Lit_24_finetune_I1C2E1E2_64_val_as_val_512_mscoco_VIT_pretrained_FINAL10.pt',\n",
    "        'mscoco_cua_64d_s24': '/remote/cirrus-home/afahim2/tmp/clip-project/clipverse/checkpoints/T0.01_Lituniform_align_24_finetune_I1C2E1E2_64_val_as_val_512_mscoco_VIT_pretrained_FINAL10.pt',\n",
    "        'mscoco_cuaxu_64d_s24': '/remote/cirrus-home/afahim2/tmp/clip-project/clipverse/checkpoints/T0.01_Lituniform_align_xuniform_24_finetune_I1C2E1E2_64_val_as_val_512_mscoco_VIT_pretrained_FINAL10.pt',\n",
    "\n",
    "        'mscoco_default_64d_s44': '/remote/cirrus-home/afahim2/tmp/clip-project/clipverse/checkpoints/T0.01_Lit_44_finetune_I1C2E1E2_64_val_as_val_512_mscoco_VIT_pretrained_FINAL10.pt',\n",
    "        'mscoco_cua_64d_s44': '/remote/cirrus-home/afahim2/tmp/clip-project/clipverse/checkpoints/T0.01_Lituniform_align_44_finetune_I1C2E1E2_64_val_as_val_512_mscoco_VIT_pretrained_FINAL10.pt',\n",
    "        'mscoco_cuaxu_64d_s44': '/remote/cirrus-home/afahim2/tmp/clip-project/clipverse/checkpoints/T0.01_Lituniform_align_xuniform_44_finetune_I1C2E1E2_64_val_as_val_512_mscoco_VIT_pretrained_FINAL10.pt',\n",
    "\n",
    "        # 32D\n",
    "\n",
    "        'mscoco_default_32d_s42': '/remote/cirrus-home/afahim2/tmp/clip-project/clipverse/checkpoints/T0.01_Lit_42_finetune_I1C2E1E2_32_val_as_val_512_mscoco_VIT_pretrained_EVAL.pt',\n",
    "        'mscoco_cua_32d_s42': '/remote/cirrus-home/afahim2/tmp/clip-project/clipverse/checkpoints/T0.01_Lituniform_align_42_finetune_I1C2E1E2_32_val_as_val_512_mscoco_VIT_pretrained_FINAL3.pt',\n",
    "        'mscoco_cuaxu_32d_s42': '/remote/cirrus-home/afahim2/tmp/clip-project/clipverse/checkpoints/T0.01_Lituniform_align_xuniform_42_finetune_I1C2E1E2_32_val_as_val_512_mscoco_VIT_pretrained_EVAL.pt',\n",
    "\n",
    "        'mscoco_default_32d_s24':  '/remote/cirrus-home/afahim2/tmp/clip-project/clipverse/checkpoints/T0.01_Lit_24_finetune_I1C2E1E2_32_val_as_val_512_mscoco_VIT_pretrained_FINAL10.pt',\n",
    "        'mscoco_cua_32d_s24': '/remote/cirrus-home/afahim2/tmp/clip-project/clipverse/checkpoints/T0.01_Lituniform_align_24_finetune_I1C2E1E2_32_val_as_val_512_mscoco_VIT_pretrained_FINAL10.pt',\n",
    "        'mscoco_cuaxu_32d_s24': '/remote/cirrus-home/afahim2/tmp/clip-project/clipverse/checkpoints/T0.01_Lituniform_align_xuniform_24_finetune_I1C2E1E2_32_val_as_val_512_mscoco_VIT_pretrained_FINAL10.pt',\n",
    "\n",
    "        'mscoco_default_32d_s44': '/remote/cirrus-home/afahim2/tmp/clip-project/clipverse/checkpoints/T0.01_Lit_44_finetune_I1C2E1E2_32_val_as_val_512_mscoco_VIT_pretrained_FINAL10.pt',\n",
    "        'mscoco_cua_32d_s44': '/remote/cirrus-home/afahim2/tmp/clip-project/clipverse/checkpoints/T0.01_Lituniform_align_44_finetune_I1C2E1E2_32_val_as_val_512_mscoco_VIT_pretrained_FINAL10.pt',\n",
    "        'mscoco_cuaxu_32d_s44': '/remote/cirrus-home/afahim2/tmp/clip-project/clipverse/checkpoints/T0.01_Lituniform_align_xuniform_44_finetune_I1C2E1E2_32_val_as_val_512_mscoco_VIT_pretrained_FINAL10.pt',\n",
    "\n",
    "    }"
   ]
  },
  {
   "cell_type": "markdown",
   "metadata": {},
   "source": [
    "### Load Dataset"
   ]
  },
  {
   "cell_type": "code",
   "execution_count": 4,
   "metadata": {},
   "outputs": [],
   "source": [
    "val_batch_cache_file = f'{ROOT}/datasets/mscoco/val_batch_cache_mscoco_full_5k.pt'\n"
   ]
  },
  {
   "cell_type": "markdown",
   "metadata": {},
   "source": [
    "### Evaluate CLIP models"
   ]
  },
  {
   "cell_type": "code",
   "execution_count": 6,
   "metadata": {},
   "outputs": [],
   "source": [
    "\n",
    "def get_gap_stuff(evaluator: Evaluator, clip_model: HFClip):\n",
    "    # ranks = evaluator.get_rank(linalg=False)\n",
    "   \n",
    "\n",
    "    return {\n",
    "        'mean_cosine_similarity': evaluator.get_mean_cosine_similarity(clip_model.get_temperature()),\n",
    "        'linear_seperability_accuracy': evaluator.get_linear_seperability(),\n",
    "        'centroid_euclidean_distance': evaluator.get_centroid_euclidean_distance(),\n",
    "\n",
    "        'val_image_classification_acc': evaluator.get_val_image_classification_acc(return_all=True),\n",
    "\n",
    "        'get_val_image_retrieval_acc': evaluator.get_val_image_retrieval_acc(return_all=True),\n",
    "\n",
    "        # 'image_variances': ranks['image_explained_variance_ratios'],\n",
    "        # 'text_variances': ranks['text_explained_variance_ratios'],\n",
    "\n",
    "        # 'uniformity_loss': evaluator.get_mscoco_uniformity(),\n",
    "        # 'alignment_loss': evaluator.get_mscoco_alignment(),\n",
    "        \n",
    "    }"
   ]
  },
  {
   "cell_type": "code",
   "execution_count": 7,
   "metadata": {},
   "outputs": [
    {
     "name": "stdout",
     "output_type": "stream",
     "text": [
      " --- \n",
      "Processing mscoco_default_128d_s42\n",
      "\n"
     ]
    },
    {
     "name": "stderr",
     "output_type": "stream",
     "text": [
      "Failed to detect the name of this notebook, you can set it manually with the WANDB_NOTEBOOK_NAME environment variable to enable code saving.\n"
     ]
    },
    {
     "name": "stdout",
     "output_type": "stream",
     "text": [
      "\n",
      "--- ENCODER 1 = IMAGE --- \n",
      "\n",
      "\n",
      " --- Initializing CLIP Image Encoder from pretrained model ---\n",
      "\n",
      "\n",
      " --- Changing projection layer size of CLIP Image Encoder: VIT  to 128--- \n",
      "\n",
      "\n",
      " --- Unfreezing backbone weights of CLIP Image Encoder: VIT  --- \n",
      "\n",
      "\n",
      "--- ENCODER 2 = TEXT --- \n",
      "\n",
      "\n",
      " --- Initializing Text Encoder with CLIP tokenizer from pretrained model ---\n",
      "\n",
      "\n",
      " --- Changing projection layer size of Text Encoder with CLIP tokenizer to 128  --- \n",
      "\n",
      "\n",
      " --- Unfreezing backbone weights of Text Encoder with CLIP tokenizer --- \n",
      "\n",
      "CLIP device  cuda\n",
      "check point path for CLIP model  checkpoints/T0.01_Lit_2_finetune_I1C2E1E2_128_val_as_val_5000_mscoco_VIT_pretrained_POST_PAPER.pt\n",
      "CLIP model not loaded from checkpoint\n",
      "\n",
      "--- HF CLIP MODEL ---\n",
      "\n",
      "selected clip model  FINETUNED_TEMP\n",
      "temperature (T):  0.01\n"
     ]
    }
   ],
   "source": [
    "\n",
    "device = torch.device(cuda_device if torch.cuda.is_available() else 'cpu')\n",
    "\n",
    "gap_metrics = {}\n",
    "# have same keys in gap_metrics as in mscoco_paths\n",
    "\n",
    "with torch.no_grad():\n",
    "\n",
    "\n",
    "    for model_name, model_path in mscoco_paths.items():\n",
    "        print(' --- ')\n",
    "        print(f'Processing {model_name}')\n",
    "        print()\n",
    "        dimensionality = int(model_name.split(\"_\")[2].split(\"d\")[0])\n",
    "\n",
    "        prepare_config(clip_projection_dim=dimensionality, cuda_device=cuda_device, seed=2, wandb_enabled=False)\n",
    "        loaded_clip_model = ClipAssembler().clip_model.to(device)\n",
    "        checkpoint = torch.load(model_path, map_location=device)\n",
    "        model_state_dict = checkpoint['model_state_dict']\n",
    "        loaded_clip_model.load_state_dict(model_state_dict)\n",
    "\n",
    "        loaded_clip_model.eval()\n",
    "        loaded_clip_model.half()\n",
    "\n",
    "\n",
    "\n",
    "        evaluator = Evaluator(MSCOCOProcessor(root=ROOT), val_batch_cache_file, load_train_dataset=False)\n",
    "\n",
    "        evaluator.set_val_outputs(loaded_clip_model, output_loss=False)\n",
    "        evaluator.set_outputs_to_use('val')\n",
    "\n",
    "        gap_stuff = get_gap_stuff(evaluator, loaded_clip_model)\n",
    "\n",
    "        gap_metrics[model_name] = gap_stuff"
   ]
  },
  {
   "cell_type": "code",
   "execution_count": null,
   "metadata": {},
   "outputs": [],
   "source": [
    "val_batch_cache_file = f'{ROOT}/datasets/mscoco/val_batch_cache_mscoco_full_5k.pt'\n",
    "\n",
    "mscoco_val_imgs: torch.Tensor = None\n",
    "mscoco_val_captions: list[str] = None\n",
    "\n",
    "(mscoco_val_imgs, mscoco_val_captions) = torch.load(val_batch_cache_file)"
   ]
  }
 ],
 "metadata": {
  "kernelspec": {
   "display_name": "babylm",
   "language": "python",
   "name": "python3"
  },
  "language_info": {
   "codemirror_mode": {
    "name": "ipython",
    "version": 3
   },
   "file_extension": ".py",
   "mimetype": "text/x-python",
   "name": "python",
   "nbconvert_exporter": "python",
   "pygments_lexer": "ipython3",
   "version": "3.10.14"
  }
 },
 "nbformat": 4,
 "nbformat_minor": 2
}
